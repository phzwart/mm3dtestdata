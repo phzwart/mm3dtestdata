{
 "cells": [
  {
   "cell_type": "markdown",
   "id": "modular-triangle",
   "metadata": {},
   "source": [
    "Introduction\n",
    "-----------------\n",
    "This notebooks shows some features of the mm3dtestdata tools.\n",
    "\n",
    "Usage\n",
    "------\n",
    "\n",
    "The mm3dtestdata is a set of routines that allow one to build a 3D dataset consisting of\n",
    "- background (class 0)\n",
    "- matrix (class 1)\n",
    "- spheres (class 2)\n",
    "- ellipsoids (class 3)\n",
    "\n",
    "The spheres and ellipoids - balls and eggs -  are placed at random in a cube, and are embedded in a matrix.\n",
    "The associated class maps can be used to compute multidimensional maps, for instance simulating workflows seen in X-ray tomography, X-ray fluoresence tomography or other spectral imaging approaches.\n",
    "\n",
    "Overcoming challenges in data fusion, due to different modalities and spatial mismatches, algorithms are needed to overcome these issues. These routines allow one to build test data one which one can test drive new approaches.\n",
    "\n",
    "Below, basic usage is demonstrated.\n",
    "\n",
    "Note\n",
    "-------\n",
    "This code is not build to be ultra fast, and for some calculations one might spend a bit of time.\n",
    "At present, thius is accpetable: the idea is to generate test data and have available ground truth data against which to validate ones algorithms."
   ]
  },
  {
   "cell_type": "code",
   "execution_count": 1,
   "id": "bf32ab06",
   "metadata": {},
   "outputs": [],
   "source": [
    "import numpy as np\n",
    "import mm3dtestdata as mm3d\n",
    "import matplotlib.pyplot as plt"
   ]
  },
  {
   "cell_type": "markdown",
   "id": "broad-transcription",
   "metadata": {},
   "source": [
    "Model Parameters\n",
    "-------------\n",
    "\n",
    "Some parameters of note :\n",
    "\n",
    "- scale: the size of the cubic grid\n",
    "- border: only place objects further away from the border\n",
    "- radius: the radius of the sphere and corresponding equal-volume ellipsoid\n",
    "\n",
    "Some parameters that govern derived data\n",
    "\n",
    "- shake_rmsd: shake the objects to get a slightly different object between modalities\n",
    "- sigma_spectral: blurring factor for our 'spectral' data\n",
    "- sigma_xct: blurring factor for our tomography data"
   ]
  },
  {
   "cell_type": "code",
   "execution_count": 2,
   "id": "b30724f3",
   "metadata": {},
   "outputs": [],
   "source": [
    "scale =128\n",
    "border = 20\n",
    "radius = 10\n",
    "\n",
    "shake_rmsd = 2.0\n",
    "sigma_sem = 1.0\n",
    "sigma_xct = 3.0"
   ]
  },
  {
   "cell_type": "markdown",
   "id": "expired-object",
   "metadata": {},
   "source": [
    "Build the objects"
   ]
  },
  {
   "cell_type": "code",
   "execution_count": 3,
   "id": "aa0c0f2d",
   "metadata": {},
   "outputs": [],
   "source": [
    "obj = mm3d.balls_and_eggs(scale=scale, border=border, radius=radius, )\n",
    "_, instance_map_0, class_map_0 = obj.fill()"
   ]
  },
  {
   "cell_type": "code",
   "execution_count": null,
   "id": "203fb0ac",
   "metadata": {},
   "outputs": [],
   "source": [
    "obj.perturb(shake=shake_rmsd, cut=None, erase=None)\n",
    "_, instance_map_1, class_map_1 = obj.fill()\n",
    "obj.reset()"
   ]
  },
  {
   "cell_type": "markdown",
   "id": "paperback-factor",
   "metadata": {},
   "source": [
    "Build class maps. Class labels are turned into one-hot-vectors, and are Gaussian smeared."
   ]
  },
  {
   "cell_type": "code",
   "execution_count": null,
   "id": "a333c48d",
   "metadata": {},
   "outputs": [],
   "source": [
    "class_map_semedx = mm3d.blur_it(class_map_0, sigma=sigma_sem)\n",
    "class_map_xct = mm3d.blur_it(class_map_1, sigma=sigma_xct)"
   ]
  },
  {
   "cell_type": "markdown",
   "id": "cross-outdoors",
   "metadata": {},
   "source": [
    "Show me"
   ]
  },
  {
   "cell_type": "code",
   "execution_count": null,
   "id": "064fbe51",
   "metadata": {
    "scrolled": false
   },
   "outputs": [],
   "source": [
    "\n",
    "# Create a figure\n",
    "plt.figure(figsize=(15,5))\n",
    "plt.subplot(1, 3, 1)\n",
    "plt.imshow(class_map_semedx[1,scale//2,...])#, vmin=0, vmax = 1.0)\n",
    "plt.colorbar(shrink=0.70)\n",
    "plt.axis('off')  # Turn off axis numbers and labels\n",
    "plt.title(\"class 1, slice 64 - spectral\")\n",
    "\n",
    "plt.subplot(1, 3, 2)\n",
    "plt.imshow(class_map_semedx[2,scale//2,...])#, vmin=0, vmax = 1.0 )\n",
    "plt.colorbar(shrink=0.70)\n",
    "plt.axis('off')\n",
    "plt.title(\"class 2, slice 64 - spectral\")\n",
    "\n",
    "\n",
    "plt.subplot(1, 3, 3)\n",
    "plt.imshow(class_map_semedx[3,scale//2,...])#, vmin=0, vmax = 1.0)\n",
    "plt.colorbar(shrink=0.70)\n",
    "plt.axis('off')\n",
    "plt.title(\"class 3, slice 64 - spectral\")\n",
    "plt.show()\n",
    "\n",
    "\n",
    "\n",
    "# Create a figure\n",
    "plt.figure(figsize=(15,5))\n",
    "plt.subplot(1, 3, 1)\n",
    "plt.imshow(class_map_xct[1,scale//2,...])#, vmin=0, vmax = 1.0)\n",
    "plt.colorbar(shrink=0.70)\n",
    "plt.axis('off')  # Turn off axis numbers and labels\n",
    "plt.title(\"class 1, slice 64 - xct\")\n",
    "\n",
    "plt.subplot(1, 3, 2)\n",
    "plt.imshow(class_map_xct[2,scale//2,...])#, vmin=0, vmax = 1.0 )\n",
    "plt.colorbar(shrink=0.70)\n",
    "plt.axis('off')\n",
    "plt.title(\"class 2, slice 64 - xct\")\n",
    "\n",
    "\n",
    "plt.subplot(1, 3, 3)\n",
    "plt.imshow(class_map_xct[3,scale//2,...])#, vmin=0, vmax = 1.0)\n",
    "plt.colorbar(shrink=0.70)\n",
    "plt.axis('off')\n",
    "plt.title(\"class 3, slice 64 - xct\")\n",
    "plt.show()\n"
   ]
  },
  {
   "cell_type": "markdown",
   "id": "mobile-cleaner",
   "metadata": {},
   "source": [
    "Define spectra and densities for each class and compute the weighted maps"
   ]
  },
  {
   "cell_type": "code",
   "execution_count": null,
   "id": "continental-protein",
   "metadata": {},
   "outputs": [],
   "source": [
    "tomo_map, _, _ = mm3d.build_material_maps_XCT_SEM_EDX(\n",
    "    class_map_xct, \"VEQI\", ['Si', 'Ca', 'Fe', 'Al', ' O', ' K'])\n",
    "\n",
    "_, sem_map, _ = mm3d.build_material_maps_XCT_SEM_EDX(\n",
    "    class_map_semedx, \"VEQI\", ['Si', 'Ca', 'Fe', 'Al', ' O', ' K'])"
   ]
  },
  {
   "cell_type": "markdown",
   "id": "blond-facility",
   "metadata": {},
   "source": [
    "We add noise as well to make life more interesting. Added noise consists of\n",
    "\n",
    "$\n",
    "(U_1^2+V_1^2)*\\mathrm{factor*density} + (U_2^2+V_2^2)*\\mathrm{dark_{factor}}\n",
    "$\n",
    "\n",
    "where U and V are Gaussian random variables wuith mean 0 and sigma 1.\n"
   ]
  },
  {
   "cell_type": "code",
   "execution_count": null,
   "id": "7d7e6533",
   "metadata": {},
   "outputs": [],
   "source": [
    "sem_map = sem_map + mm3d.noise(sem_map, 0.05, 0.0)\n",
    "tomo_map = tomo_map + mm3d.noise(tomo_map, 0.01, 0.0)"
   ]
  },
  {
   "cell_type": "markdown",
   "id": "atmospheric-dress",
   "metadata": {},
   "source": [
    "Show me"
   ]
  },
  {
   "cell_type": "code",
   "execution_count": null,
   "id": "ba51abb7",
   "metadata": {
    "scrolled": false
   },
   "outputs": [],
   "source": [
    "\n",
    "# Create a figure\n",
    "plt.figure(figsize=(15,5))\n",
    "plt.subplot(1, 3, 1)\n",
    "plt.imshow(sem_map[0,scale//2,...])#, vmin=0, vmax = 0.5)\n",
    "plt.colorbar(shrink=0.70)\n",
    "plt.axis('off')  # Turn off axis numbers and labels\n",
    "\n",
    "plt.subplot(1, 3, 2)\n",
    "plt.imshow(sem_map[2,scale//2,...])#, vmin=0, vmax = 0.05)\n",
    "plt.colorbar(shrink=0.70)\n",
    "plt.axis('off')\n",
    "\n",
    "\n",
    "plt.subplot(1, 3, 3)\n",
    "plt.imshow(sem_map[4,scale//2,...])#, vmin=0, vmax = 0.10)\n",
    "plt.colorbar(shrink=0.70)\n",
    "plt.axis('off')\n",
    "\n",
    "# Display the plot\n",
    "plt.show()\n",
    "\n",
    "# Create a figure\n",
    "plt.figure(figsize=(15,5))\n",
    "plt.subplot(1, 3, 1)\n",
    "plt.imshow(tomo_map[0,scale//2,...])#, vmin=0.05, vmax = 0.55)\n",
    "plt.colorbar(shrink=0.70)\n",
    "plt.axis('off')  # Turn off axis numbers and labels\n",
    "\n",
    "plt.subplot(1, 3, 2)\n",
    "plt.imshow(tomo_map[0,scale//2,...])#, vmin=0.05, vmax = 0.55)\n",
    "plt.colorbar(shrink=0.70)\n",
    "plt.axis('off')\n",
    "\n",
    "\n",
    "plt.subplot(1, 3, 3)\n",
    "plt.imshow(tomo_map[0,scale//2,...])#, vmin=0.05, vmax = 0.55)\n",
    "plt.colorbar(shrink=0.70)\n",
    "plt.axis('off')\n",
    "\n",
    "# Display the plot\n",
    "plt.show()"
   ]
  },
  {
   "cell_type": "code",
   "execution_count": null,
   "id": "8d326360",
   "metadata": {},
   "outputs": [],
   "source": []
  },
  {
   "cell_type": "code",
   "execution_count": null,
   "id": "5cd29cd3",
   "metadata": {},
   "outputs": [],
   "source": []
  },
  {
   "cell_type": "code",
   "execution_count": null,
   "id": "aafd4f37",
   "metadata": {},
   "outputs": [],
   "source": []
  }
 ],
 "metadata": {
  "kernelspec": {
   "display_name": "Python 3 (ipykernel)",
   "language": "python",
   "name": "python3"
  },
  "language_info": {
   "codemirror_mode": {
    "name": "ipython",
    "version": 3
   },
   "file_extension": ".py",
   "mimetype": "text/x-python",
   "name": "python",
   "nbconvert_exporter": "python",
   "pygments_lexer": "ipython3",
   "version": "3.9.16"
  }
 },
 "nbformat": 4,
 "nbformat_minor": 5
}
